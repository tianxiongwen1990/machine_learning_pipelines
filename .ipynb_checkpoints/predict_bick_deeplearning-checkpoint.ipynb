{
 "cells": [
  {
   "cell_type": "code",
   "execution_count": 1,
   "metadata": {},
   "outputs": [
    {
     "name": "stderr",
     "output_type": "stream",
     "text": [
      "/Users/teddy/anaconda3/lib/python3.6/site-packages/h5py/__init__.py:36: FutureWarning: Conversion of the second argument of issubdtype from `float` to `np.floating` is deprecated. In future, it will be treated as `np.float64 == np.dtype(float).type`.\n",
      "  from ._conv import register_converters as _register_converters\n"
     ]
    },
    {
     "name": "stdout",
     "output_type": "stream",
     "text": [
      "Populating the interactive namespace from numpy and matplotlib\n"
     ]
    }
   ],
   "source": [
    "import pandas as pd\n",
    "import tensorflow as tf\n",
    "%pylab inline"
   ]
  },
  {
   "cell_type": "code",
   "execution_count": 3,
   "metadata": {},
   "outputs": [
    {
     "name": "stdout",
     "output_type": "stream",
     "text": [
      "(10886, 14)\n",
      "(10885, 1)\n"
     ]
    }
   ],
   "source": [
    "X_data = pd.read_csv(\"data/train.csv\")\n",
    "y_data = pd.read_csv(\"data/test.csv\")\n",
    "print(X_data.shape)\n",
    "print(y_data.shape)"
   ]
  },
  {
   "cell_type": "code",
   "execution_count": 4,
   "metadata": {},
   "outputs": [],
   "source": [
    "# parameters\n",
    "n_hidden_1 = 256\n",
    "n_hidden_2 = 256\n",
    "n_input = X_data.shape[1]\n",
    "n_output = y_data.shape[1]\n",
    "\n",
    "X = tf.placeholder(tf.float32,[None,n_input],name='X_placeholder')\n",
    "y = tf.placeholder(tf.float32,[None,n_output],name='y_placeholder')"
   ]
  },
  {
   "cell_type": "code",
   "execution_count": 5,
   "metadata": {
    "scrolled": true
   },
   "outputs": [],
   "source": [
    "# define weights and bias\n",
    "weights = {\n",
    "    'h1':tf.Variable(tf.random_normal([n_input,n_hidden_1]),name='hidden1'),\n",
    "    'h2':tf.Variable(tf.random_normal([n_hidden_1,n_hidden_2]),name='hidden2'),\n",
    "    'output_w':tf.Variable(tf.random_normal([n_hidden_2,n_output]),name='output_w')\n",
    "}\n",
    "\n",
    "biases = {\n",
    "    'b1':tf.Variable(tf.random_normal([n_hidden_1]),name='bias1'),\n",
    "    'b2':tf.Variable(tf.random_normal([n_hidden_2]),name='bias2'),\n",
    "    'output_b':tf.Variable(tf.random_normal([n_output]),name='output_b')\n",
    "}"
   ]
  },
  {
   "cell_type": "code",
   "execution_count": 6,
   "metadata": {},
   "outputs": [],
   "source": [
    "# get layer\n",
    "def create_network(X,weights,biases):\n",
    "    layer1 = tf.add(tf.matmul(X,weights['h1']),biases['b1'],name='layer1')\n",
    "    layer1 = tf.nn.relu(layer1,name='activ1')\n",
    "    layer2 = tf.add(tf.matmul(layer1,weights['h2']),biases['b2'],name='layer2')\n",
    "    layer2 = tf.nn.relu(layer2,name='activ2')\n",
    "    out_layer = tf.add(tf.matmul(layer2,weights['output_w']),biases['output_b'],name='output_layer')\n",
    "    \n",
    "    return out_layer"
   ]
  },
  {
   "cell_type": "code",
   "execution_count": 7,
   "metadata": {},
   "outputs": [],
   "source": [
    "# loss and optimizer\n",
    "pred = create_network(X,weights,biases)\n",
    "\n",
    "loss = tf.reduce_mean(tf.square(pred-y),name='loss_mse') #MSE\n",
    "# loss = tf.losses.mean_squared_error(out_layer,y,name='loss_mse') #MSE\n",
    "\n",
    "optimizer = tf.train.AdagradOptimizer(learning_rate=0.001,name='optimizer').minimize(loss)"
   ]
  },
  {
   "cell_type": "code",
   "execution_count": null,
   "metadata": {},
   "outputs": [
    {
     "name": "stdout",
     "output_type": "stream",
     "text": [
      "epoch: #0 : Loss:5291027.3191\n"
     ]
    }
   ],
   "source": [
    "train_epoches = 300  # train times\n",
    "batch_size=128\n",
    "init = tf.global_variables_initializer()\n",
    "with tf.Session() as sess:\n",
    "    sess.run(init)\n",
    "    writer = tf.summary.FileWriter('./graphs/bick',sess.graph)\n",
    "    \n",
    "    # train\n",
    "    for epoch in range(train_epoches):\n",
    "        avg_loss=0.\n",
    "        all_batch = int( X_data.shape[0]/ batch_size)\n",
    "        # loop over all the batches\n",
    "        for i in range(all_batch):\n",
    "            batch_X = X_data.iloc[batch_size*i:batch_size*(i+1),:]\n",
    "            batch_y = y_data.iloc[batch_size*i:batch_size*(i+1),:]\n",
    "            _,l = sess.run([optimizer,loss],feed_dict={X:batch_X,y:batch_y})\n",
    "            avg_loss += l/ all_batch\n",
    "        if epoch%100==0:\n",
    "            print('epoch: #%s : Loss:%.4f'%(epoch,avg_loss))\n",
    "    pred = pred.eval({X:X_data,y:y_data})\n",
    "    print(\"MSE:%.4f\"%avg_loss)"
   ]
  },
  {
   "cell_type": "code",
   "execution_count": null,
   "metadata": {},
   "outputs": [],
   "source": []
  },
  {
   "cell_type": "code",
   "execution_count": null,
   "metadata": {},
   "outputs": [],
   "source": []
  }
 ],
 "metadata": {
  "kernelspec": {
   "display_name": "Python 3",
   "language": "python",
   "name": "python3"
  },
  "language_info": {
   "codemirror_mode": {
    "name": "ipython",
    "version": 3
   },
   "file_extension": ".py",
   "mimetype": "text/x-python",
   "name": "python",
   "nbconvert_exporter": "python",
   "pygments_lexer": "ipython3",
   "version": "3.6.4"
  }
 },
 "nbformat": 4,
 "nbformat_minor": 2
}
