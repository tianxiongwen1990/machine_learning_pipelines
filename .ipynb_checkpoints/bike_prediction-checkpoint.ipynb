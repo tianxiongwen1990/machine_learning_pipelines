{
 "cells": [
  {
   "cell_type": "markdown",
   "metadata": {},
   "source": [
    "### the scirpt is to create a based pipeline for machine learning case, including xgboost, cv, and model blending.<br> could use the case in the future analysis."
   ]
  },
  {
   "cell_type": "code",
   "execution_count": 1,
   "metadata": {},
   "outputs": [
    {
     "name": "stdout",
     "output_type": "stream",
     "text": [
      "Populating the interactive namespace from numpy and matplotlib\n"
     ]
    },
    {
     "name": "stderr",
     "output_type": "stream",
     "text": [
      "/Users/teddy/anaconda3/lib/python3.6/site-packages/sklearn/ensemble/weight_boosting.py:29: DeprecationWarning: numpy.core.umath_tests is an internal NumPy module and should not be imported. It will be removed in a future NumPy release.\n",
      "  from numpy.core.umath_tests import inner1d\n",
      "/Users/teddy/anaconda3/lib/python3.6/site-packages/sklearn/cross_validation.py:41: DeprecationWarning: This module was deprecated in version 0.18 in favor of the model_selection module into which all the refactored classes and functions are moved. Also note that the interface of the new CV iterators are different from that of this module. This module will be removed in 0.20.\n",
      "  \"This module will be removed in 0.20.\", DeprecationWarning)\n"
     ]
    }
   ],
   "source": [
    "import pandas as pd\n",
    "%pylab inline\n",
    "from sklearn.ensemble import RandomForestRegressor,AdaBoostRegressor,GradientBoostingRegressor\n",
    "from sklearn.svm import SVR\n",
    "from sklearn.linear_model import LinearRegression,RidgeCV\n",
    "from sklearn.model_selection import train_test_split,GridSearchCV,learning_curve\n",
    "from sklearn import metrics\n",
    "import xgboost as xgb\n",
    "from xgboost import XGBRegressor\n",
    "from sklearn.externals import joblib\n",
    "from sklearn.cross_validation import StratifiedKFold\n",
    "import os\n",
    "# may try nn also"
   ]
  },
  {
   "cell_type": "code",
   "execution_count": 2,
   "metadata": {},
   "outputs": [
    {
     "data": {
      "text/plain": [
       "'/Users/teddy/project/ML_pipeline'"
      ]
     },
     "execution_count": 2,
     "metadata": {},
     "output_type": "execute_result"
    }
   ],
   "source": [
    "os.getcwd()"
   ]
  },
  {
   "cell_type": "code",
   "execution_count": 172,
   "metadata": {},
   "outputs": [],
   "source": [
    "df = pd.read_csv(\"data/kaggle_bike_competition_train.csv\")\n",
    "\n",
    "df['day_of_month'] = df['datetime'].apply(lambda x:pd.to_datetime(x).day)\n",
    "\n",
    "df['hour'] = df['datetime'].apply(lambda x:pd.to_datetime(x).hour)\n",
    "\n",
    "df['weekday'] = df['datetime'].apply(lambda x:pd.to_datetime(x).weekday())\n",
    "\n",
    "df['month_of_year'] = df['datetime'].apply(lambda x:pd.to_datetime(x).month)\n",
    "\n",
    "df['is_weekend'] = 0\n",
    "df.loc[df.weekday.isin([5,6]),'is_weekend'] = 1\n",
    "\n",
    "def day_of_year(date_str):\n",
    "    # day of year\n",
    "    def leap_year(year):\n",
    "        return  (year//4==0 and year//100!=0) or (year //400==0)\n",
    "    year  = pd.to_datetime(date_str).year\n",
    "    month = pd.to_datetime(date_str).month\n",
    "    day   = pd.to_datetime(date_str).day\n",
    "    \n",
    "    total=0\n",
    "    days_of_month=[31,28,31,30,31,30,31,31,30,31,30,31]\n",
    "    for index in range (month-1):\n",
    "            total += days_of_month[index]\n",
    "    if month >2 and leap_year(year):\n",
    "        total += 1\n",
    "    return total + day\n",
    "\n",
    "df['day_of_year'] = df['datetime'].apply(day_of_year)\n",
    "\n",
    "df.drop(['datetime','casual','registered'],axis=1,inplace=True)\n"
   ]
  },
  {
   "cell_type": "code",
   "execution_count": 173,
   "metadata": {},
   "outputs": [
    {
     "data": {
      "text/html": [
       "<div>\n",
       "<style scoped>\n",
       "    .dataframe tbody tr th:only-of-type {\n",
       "        vertical-align: middle;\n",
       "    }\n",
       "\n",
       "    .dataframe tbody tr th {\n",
       "        vertical-align: top;\n",
       "    }\n",
       "\n",
       "    .dataframe thead th {\n",
       "        text-align: right;\n",
       "    }\n",
       "</style>\n",
       "<table border=\"1\" class=\"dataframe\">\n",
       "  <thead>\n",
       "    <tr style=\"text-align: right;\">\n",
       "      <th></th>\n",
       "      <th>season</th>\n",
       "      <th>holiday</th>\n",
       "      <th>workingday</th>\n",
       "      <th>weather</th>\n",
       "      <th>temp</th>\n",
       "      <th>atemp</th>\n",
       "      <th>humidity</th>\n",
       "      <th>windspeed</th>\n",
       "      <th>count</th>\n",
       "      <th>day_of_month</th>\n",
       "      <th>hour</th>\n",
       "      <th>weekday</th>\n",
       "      <th>month_of_year</th>\n",
       "      <th>is_weekend</th>\n",
       "      <th>day_of_year</th>\n",
       "    </tr>\n",
       "  </thead>\n",
       "  <tbody>\n",
       "    <tr>\n",
       "      <th>0</th>\n",
       "      <td>1</td>\n",
       "      <td>0</td>\n",
       "      <td>0</td>\n",
       "      <td>1</td>\n",
       "      <td>9.84</td>\n",
       "      <td>14.395</td>\n",
       "      <td>81</td>\n",
       "      <td>0.0</td>\n",
       "      <td>16</td>\n",
       "      <td>1</td>\n",
       "      <td>0</td>\n",
       "      <td>5</td>\n",
       "      <td>1</td>\n",
       "      <td>1</td>\n",
       "      <td>1</td>\n",
       "    </tr>\n",
       "    <tr>\n",
       "      <th>1</th>\n",
       "      <td>1</td>\n",
       "      <td>0</td>\n",
       "      <td>0</td>\n",
       "      <td>1</td>\n",
       "      <td>9.02</td>\n",
       "      <td>13.635</td>\n",
       "      <td>80</td>\n",
       "      <td>0.0</td>\n",
       "      <td>40</td>\n",
       "      <td>1</td>\n",
       "      <td>1</td>\n",
       "      <td>5</td>\n",
       "      <td>1</td>\n",
       "      <td>1</td>\n",
       "      <td>1</td>\n",
       "    </tr>\n",
       "    <tr>\n",
       "      <th>2</th>\n",
       "      <td>1</td>\n",
       "      <td>0</td>\n",
       "      <td>0</td>\n",
       "      <td>1</td>\n",
       "      <td>9.02</td>\n",
       "      <td>13.635</td>\n",
       "      <td>80</td>\n",
       "      <td>0.0</td>\n",
       "      <td>32</td>\n",
       "      <td>1</td>\n",
       "      <td>2</td>\n",
       "      <td>5</td>\n",
       "      <td>1</td>\n",
       "      <td>1</td>\n",
       "      <td>1</td>\n",
       "    </tr>\n",
       "    <tr>\n",
       "      <th>3</th>\n",
       "      <td>1</td>\n",
       "      <td>0</td>\n",
       "      <td>0</td>\n",
       "      <td>1</td>\n",
       "      <td>9.84</td>\n",
       "      <td>14.395</td>\n",
       "      <td>75</td>\n",
       "      <td>0.0</td>\n",
       "      <td>13</td>\n",
       "      <td>1</td>\n",
       "      <td>3</td>\n",
       "      <td>5</td>\n",
       "      <td>1</td>\n",
       "      <td>1</td>\n",
       "      <td>1</td>\n",
       "    </tr>\n",
       "    <tr>\n",
       "      <th>4</th>\n",
       "      <td>1</td>\n",
       "      <td>0</td>\n",
       "      <td>0</td>\n",
       "      <td>1</td>\n",
       "      <td>9.84</td>\n",
       "      <td>14.395</td>\n",
       "      <td>75</td>\n",
       "      <td>0.0</td>\n",
       "      <td>1</td>\n",
       "      <td>1</td>\n",
       "      <td>4</td>\n",
       "      <td>5</td>\n",
       "      <td>1</td>\n",
       "      <td>1</td>\n",
       "      <td>1</td>\n",
       "    </tr>\n",
       "  </tbody>\n",
       "</table>\n",
       "</div>"
      ],
      "text/plain": [
       "   season  holiday  workingday  weather  temp   atemp  humidity  windspeed  \\\n",
       "0       1        0           0        1  9.84  14.395        81        0.0   \n",
       "1       1        0           0        1  9.02  13.635        80        0.0   \n",
       "2       1        0           0        1  9.02  13.635        80        0.0   \n",
       "3       1        0           0        1  9.84  14.395        75        0.0   \n",
       "4       1        0           0        1  9.84  14.395        75        0.0   \n",
       "\n",
       "   count  day_of_month  hour  weekday  month_of_year  is_weekend  day_of_year  \n",
       "0     16             1     0        5              1           1            1  \n",
       "1     40             1     1        5              1           1            1  \n",
       "2     32             1     2        5              1           1            1  \n",
       "3     13             1     3        5              1           1            1  \n",
       "4      1             1     4        5              1           1            1  "
      ]
     },
     "execution_count": 173,
     "metadata": {},
     "output_type": "execute_result"
    }
   ],
   "source": [
    "df.head()"
   ]
  },
  {
   "cell_type": "code",
   "execution_count": 174,
   "metadata": {},
   "outputs": [],
   "source": [
    "X = df.drop(['count'],axis=1)\n",
    "y = df['count']\n",
    "X_train,X_test,y_train,y_test = train_test_split(X,y,random_state=1,test_size=.25)"
   ]
  },
  {
   "cell_type": "code",
   "execution_count": 20,
   "metadata": {},
   "outputs": [],
   "source": [
    "# X.to_csv(\"data/train.csv\",index=False)\n",
    "# y.to_csv(\"data/test.csv\", index=False)"
   ]
  },
  {
   "cell_type": "code",
   "execution_count": 7,
   "metadata": {},
   "outputs": [],
   "source": [
    "def plot_learning_curve(estimator, title, X, y, ylim=None, cv=None,\n",
    "                        n_jobs=1, train_sizes=np.linspace(.1, 1.0, 5),\n",
    "                       save_pic=False):\n",
    "    \n",
    "    plt.figure()\n",
    "    plt.title(title)\n",
    "    if ylim is not None:\n",
    "        plt.ylim(*ylim)\n",
    "    plt.xlabel(\"Training examples\")\n",
    "    plt.ylabel(\"Score\")\n",
    "    train_sizes, train_scores, test_scores = learning_curve(\n",
    "        estimator, X, y, cv=cv, n_jobs=n_jobs, train_sizes=train_sizes)\n",
    "    train_scores_mean = np.mean(train_scores, axis=1)\n",
    "    train_scores_std = np.std(train_scores, axis=1)\n",
    "    test_scores_mean = np.mean(test_scores, axis=1)\n",
    "    test_scores_std = np.std(test_scores, axis=1)\n",
    "    plt.grid()\n",
    "\n",
    "    plt.fill_between(train_sizes, train_scores_mean - train_scores_std,\n",
    "                     train_scores_mean + train_scores_std, alpha=0.1,\n",
    "                     color=\"r\")\n",
    "    plt.fill_between(train_sizes, test_scores_mean - test_scores_std,\n",
    "                     test_scores_mean + test_scores_std, alpha=0.1, color=\"g\")\n",
    "    plt.plot(train_sizes, train_scores_mean, 'o-', color=\"r\",\n",
    "             label=\"Training score\")\n",
    "    plt.plot(train_sizes, test_scores_mean, 'o-', color=\"g\",\n",
    "             label=\"Cross-validation score\")\n",
    "\n",
    "    plt.legend(loc=\"best\")\n",
    "    if save_pic:\n",
    "        plt.savefig(\"img/%s.png\"%title)\n",
    "    \n",
    "    return plt"
   ]
  },
  {
   "cell_type": "code",
   "execution_count": 8,
   "metadata": {},
   "outputs": [],
   "source": [
    "def modelit(model,save_model=True):\n",
    "    \"\"\"\n",
    "    model should be a dict type model name.\n",
    "    \"\"\"\n",
    "    list(model.values())[0].fit(X_train,y_train)\n",
    "    y_pred = list(model.values())[0].predict(X_test)\n",
    "    rmse_score = sqrt((pow(y_pred-array(y_test),2).sum())/len(y_pred)) #RMSE\n",
    "    \n",
    "    if save_model:\n",
    "        if 'model' not in os.listdir():\n",
    "            os.mkdir('model')\n",
    "        if list(model.keys())[0] not in os.listdir('model'):\n",
    "            os.mkdir(list(model.keys())[0])\n",
    "        joblib.dump(list(model.values())[0],'model/%s'%list(model.keys())[0])\n",
    "    return y_pred,rmse_score"
   ]
  },
  {
   "cell_type": "code",
   "execution_count": 9,
   "metadata": {
    "scrolled": true
   },
   "outputs": [],
   "source": [
    "# params = {\n",
    "#     'n_estimators':[300,400,500],\n",
    "#     'max_depth':[3,4,5]\n",
    "# }\n",
    "# gsearch = GridSearchCV(estimator = RandomForestRegressor(criterion='mse',max_features='sqrt',oob_score=True,warm_start=True),param_grid = params)\n",
    "# gsearch.fit(X,y)\n",
    "\n",
    "# params = {\n",
    "#     'learning_rate':[.1,.01,.001],\n",
    "#     'n_estimators':[50,100,150,200],\n",
    "#     'loss':['linear','square','exponential']\n",
    "# }\n",
    "# gsearch = GridSearchCV(estimator=AdaBoostRegressor(),param_grid=params)\n",
    "# gsearch.fit(X,y)\n",
    "\n",
    "# params = {\n",
    "#     'learning_rate':[1,.1,.01],\n",
    "#     'booster':['gbtree','gblinear'],\n",
    "#     'gamma':[.1,.3,.6], # the larger, the more conservative\n",
    "#     'max_depth':[3,4,5,6],\n",
    "# }\n",
    "# gsearch = GridSearchCV(estimator=xgb.XGBRegressor(objective='reg:linear',eval_metric='rmse'),param_grid=params)\n",
    "# gsearch.fit(X,y)\n",
    "\n",
    "# params = {\n",
    "#     'loss':['ls','lad','quantile'],\n",
    "#     'learning_rate':[.01,.05,.1,.5],\n",
    "# }\n",
    "# gsearch = GridSearchCV(estimator=GradientBoostingRegressor(n_estimators=200,warm_start=True,max_depth=3,\n",
    "#                                                           max_features='sqrt'),param_grid=params)\n",
    "# gsearch.fit(X,y)"
   ]
  },
  {
   "cell_type": "code",
   "execution_count": 11,
   "metadata": {},
   "outputs": [],
   "source": [
    "# 1. RandomForest\n",
    "rf_dict = {'rf':\n",
    "           RandomForestRegressor(bootstrap=True, criterion='mse', max_depth=6,\n",
    "           max_features='sqrt', max_leaf_nodes=None,\n",
    "           min_impurity_decrease=0.0, min_impurity_split=None,\n",
    "           min_samples_leaf=1, min_samples_split=2,\n",
    "           min_weight_fraction_leaf=0.0, n_estimators=500, n_jobs=1,\n",
    "           oob_score=True, random_state=None, verbose=0, warm_start=True)\n",
    "          }\n",
    "\n",
    "# 2. Adaboost\n",
    "ada_dict = {'ada':\n",
    "         AdaBoostRegressor(base_estimator=None, learning_rate=.1, loss='linear',\n",
    "         n_estimators=50, random_state=None)\n",
    "}\n",
    "\n",
    "# 3. XGBoost\n",
    "xgb_dict = {'xgb':\n",
    "       XGBRegressor(base_score=0.5, booster='gbtree', colsample_bylevel=1,\n",
    "       colsample_bytree=1, eval_metric='rmse', gamma=0.1,\n",
    "       importance_type='gain', learning_rate=0.1, max_delta_step=0,\n",
    "       max_depth=4, min_child_weight=1, missing=None, n_estimators=100,\n",
    "       n_jobs=1, nthread=None, objective='reg:linear', random_state=0,\n",
    "       reg_alpha=0, reg_lambda=1, scale_pos_weight=1, seed=None,\n",
    "       silent=True, subsample=1)\n",
    "} \n",
    "\n",
    "# 4. GBDT\n",
    "gbdt_dict = {'gbdt':\n",
    "             GradientBoostingRegressor(alpha=0.9, criterion='friedman_mse', init=None,\n",
    "             learning_rate=0.5, loss='lad', max_depth=3,\n",
    "             max_features='sqrt', max_leaf_nodes=None,\n",
    "             min_impurity_decrease=0.0, min_impurity_split=None,\n",
    "             min_samples_leaf=1, min_samples_split=2,\n",
    "             min_weight_fraction_leaf=0.0, n_estimators=200,\n",
    "             presort='auto', random_state=None, subsample=1.0, verbose=0,\n",
    "             warm_start=True)\n",
    "}"
   ]
  },
  {
   "cell_type": "code",
   "execution_count": 12,
   "metadata": {
    "scrolled": true
   },
   "outputs": [
    {
     "data": {
      "text/plain": [
       "<module 'matplotlib.pyplot' from '/Users/teddy/anaconda3/lib/python3.6/site-packages/matplotlib/pyplot.py'>"
      ]
     },
     "execution_count": 12,
     "metadata": {},
     "output_type": "execute_result"
    },
    {
     "data": {
      "image/png": "[encoded data removed]",
      "text/plain": [
       "<matplotlib.figure.Figure at 0x1178b0940>"
      ]
     },
     "metadata": {},
     "output_type": "display_data"
    }
   ],
   "source": [
    "plot_learning_curve(list(rf_dict.values())[0],'RF',X,y,cv=5,save_pic=True)"
   ]
  },
  {
   "cell_type": "code",
   "execution_count": 13,
   "metadata": {},
   "outputs": [
    {
     "data": {
      "text/plain": [
       "<module 'matplotlib.pyplot' from '/Users/teddy/anaconda3/lib/python3.6/site-packages/matplotlib/pyplot.py'>"
      ]
     },
     "execution_count": 13,
     "metadata": {},
     "output_type": "execute_result"
    },
    {
     "data": {
      "image/png": "[encoded data removed]",
      "text/plain": [
       "<matplotlib.figure.Figure at 0x1178b0dd8>"
      ]
     },
     "metadata": {},
     "output_type": "display_data"
    }
   ],
   "source": [
    "plot_learning_curve(list(ada_dict.values())[0],'AdaBoost',X,y,cv=5,save_pic=True)"
   ]
  },
  {
   "cell_type": "code",
   "execution_count": 14,
   "metadata": {},
   "outputs": [
    {
     "data": {
      "text/plain": [
       "<module 'matplotlib.pyplot' from '/Users/teddy/anaconda3/lib/python3.6/site-packages/matplotlib/pyplot.py'>"
      ]
     },
     "execution_count": 14,
     "metadata": {},
     "output_type": "execute_result"
    },
    {
     "data": {
      "image/png": "[encoded data removed]",
      "text/plain": [
       "<matplotlib.figure.Figure at 0x119a24c18>"
      ]
     },
     "metadata": {},
     "output_type": "display_data"
    }
   ],
   "source": [
    "plot_learning_curve(list(xgb_dict.values())[0],'XGboost',X,y,save_pic=True)"
   ]
  },
  {
   "cell_type": "code",
   "execution_count": 15,
   "metadata": {},
   "outputs": [
    {
     "data": {
      "text/plain": [
       "<module 'matplotlib.pyplot' from '/Users/teddy/anaconda3/lib/python3.6/site-packages/matplotlib/pyplot.py'>"
      ]
     },
     "execution_count": 15,
     "metadata": {},
     "output_type": "execute_result"
    },
    {
     "data": {
      "image/png": "[encoded data removed]",
      "text/plain": [
       "<matplotlib.figure.Figure at 0x116d38b70>"
      ]
     },
     "metadata": {},
     "output_type": "display_data"
    }
   ],
   "source": [
    "plot_learning_curve(list(gbdt_dict.values())[0],'GBDT',X,y,save_pic=True)"
   ]
  },
  {
   "cell_type": "code",
   "execution_count": 16,
   "metadata": {},
   "outputs": [
    {
     "name": "stdout",
     "output_type": "stream",
     "text": [
      "121.63269351212662\n",
      "121.22638520855867\n",
      "73.19071621140591\n",
      "91.40222510222623\n"
     ]
    }
   ],
   "source": [
    "y_pred_RF,rmse_RF = modelit(rf_dict)\n",
    "\n",
    "y_pred_ada,rmse_ada = modelit(ada_dict)\n",
    "\n",
    "y_pred_xgb, rmse_xgb = modelit(xgb_dict)\n",
    "\n",
    "u_pred_gbdt,rmse_gbdt = modelit(gbdt_dict)\n",
    "\n",
    "print(rmse_RF)\n",
    "print(rmse_ada)\n",
    "print(rmse_xgb)\n",
    "print(rmse_gbdt)"
   ]
  },
  {
   "cell_type": "markdown",
   "metadata": {},
   "source": [
    "### Go for blending"
   ]
  },
  {
   "cell_type": "code",
   "execution_count": 182,
   "metadata": {},
   "outputs": [],
   "source": [
    "def stritified_K_fold_cross_validation(train_data,\n",
    "                                       train_col,\n",
    "                                       test_col,\n",
    "                                       model,\n",
    "                                       n_split=5,\n",
    "                                       show_obs=False):\n",
    "\n",
    "    \"\"\"\n",
    "    example:\n",
    "    from sklearn.datasets import load_iris\n",
    "    df = load_iris()\n",
    "    X = pd.DataFrame(df.data)\n",
    "    y = pd.DataFrame(df.target)\n",
    "    df = pd.concat([X,y],axis=1)\n",
    "    df.columns = ['a','b','c','d','y']\n",
    "    df = df[df.y<2].reset_index(drop=True)\n",
    "    model = RandomForestClassifier(n_estimators=300)\n",
    "    train_data = df[df.y<2].reset_index(drop=True)\n",
    "    train_col = ['a','b','c','d']\n",
    "    test_col = ['y']\n",
    "    stritified_K_fold_cross_validation(train_data = train_data,train_col=['a','b','c','d'],test_col='y',model = model)\n",
    "    \"\"\"\n",
    "\n",
    "    from sklearn.model_selection import StratifiedKFold\n",
    "    from sklearn.metrics import roc_auc_score\n",
    "    import numpy as np\n",
    "    import warnings\n",
    "    import time\n",
    "    warnings.filterwarnings('ignore')\n",
    "\n",
    "    X = train_data[train_col]\n",
    "    y = train_data[test_col]\n",
    "\n",
    "    stf = StratifiedKFold(n_splits=5,random_state=0,shuffle=False)\n",
    "    \n",
    "    # used to save the y-hat \n",
    "    idx_list = []\n",
    "    y_hat_list = []\n",
    "    df_kfold = pd.DataFrame() #save the result\n",
    "    \n",
    "    for idx,(train_index,test_index) in enumerate(stf.split(X,y)):\n",
    "        starttime = time.time()\n",
    "        traindata_train = train_data.iloc[train_index,:] # to train in the sub-dataset\n",
    "        traindata_test  = train_data.iloc[test_index,:]  # to test in the sub-dataset\n",
    "        X_train_data = traindata_train[train_col]\n",
    "        y_train_data = traindata_train[test_col]\n",
    "        X_test_data = traindata_test[train_col]\n",
    "        y_test_data = traindata_test[test_col]\n",
    "\n",
    "        model.fit(X_train_data,y_train_data)\n",
    "        y_pred_data = model.predict(X_test_data)\n",
    "        \n",
    "#         score = roc_auc_score(y_pred_data,np.array(y_test_data))\n",
    "#         score_list = []\n",
    "#         score_list.append(score)\n",
    "#         time_spent = time.time()-starttime\n",
    "#         if show_obs==True:\n",
    "#             print(\"# %d accuracy:%.4f,spent %.2f seconds\"%(idx,score,time_spent))\n",
    "        \n",
    "        idx_list.append(test_index)\n",
    "        y_hat_list.append(y_pred_data)\n",
    "        df_kfold_each_idx = pd.DataFrame({\"idx\":test_index,\"y_hat\":y_pred_data,\"y_real\":y_test_data.values})\n",
    "        \n",
    "        df_kfold = pd.concat([df_kfold_each_idx,df_kfold],axis=0).reset_index(drop=True)\n",
    "        \n",
    "    if show_obs==True:    \n",
    "        print(\"=================\")\n",
    "        print(\"average score:\",np.mean(score_list))\n",
    "    return df_kfold"
   ]
  },
  {
   "cell_type": "code",
   "execution_count": null,
   "metadata": {},
   "outputs": [],
   "source": []
  },
  {
   "cell_type": "code",
   "execution_count": 183,
   "metadata": {
    "scrolled": true
   },
   "outputs": [],
   "source": [
    "df_train = pd.concat([X_train,y_train],axis=1)\n",
    "\n",
    "df_rf = stritified_K_fold_cross_validation(train_data=df_train,\n",
    "                                   train_col=X_train.columns,\n",
    "                                   test_col='count',\n",
    "                                   model=list(rf_dict.values())[0],\n",
    "                                   n_split=5,\n",
    "                                   show_obs=False)\n",
    "df_rf.columns = ['idx','y_hat_rf','y_real_rf']\n",
    "\n",
    "df_ada = stritified_K_fold_cross_validation(train_data=df_train,\n",
    "                                   train_col=X_train.columns,\n",
    "                                   test_col='count',\n",
    "                                   model=list(ada_dict.values())[0],\n",
    "                                   n_split=5,\n",
    "                                   show_obs=False)\n",
    "df_ada.columns = ['idx','y_hat_ada','y_real_ada']\n",
    "\n",
    "df_xgb = stritified_K_fold_cross_validation(train_data=df_train,\n",
    "                                   train_col=X_train.columns,\n",
    "                                   test_col='count',\n",
    "                                   model=list(xgb_dict.values())[0],\n",
    "                                   n_split=5,\n",
    "                                   show_obs=False)\n",
    "df_xgb.columns = ['idx','y_hat_xgb','y_real_xgb']\n",
    "\n",
    "df_gbdt = stritified_K_fold_cross_validation(train_data=df_train,\n",
    "                                   train_col=X_train.columns,\n",
    "                                   test_col='count',\n",
    "                                   model=list(gbdt_dict.values())[0],\n",
    "                                   n_split=5,\n",
    "                                   show_obs=False)\n",
    "df_gbdt.columns = ['idx','y_hat_gbdt','y_real_gbdt']"
   ]
  },
  {
   "cell_type": "code",
   "execution_count": 164,
   "metadata": {
    "scrolled": true
   },
   "outputs": [
    {
     "name": "stdout",
     "output_type": "stream",
     "text": [
      "the weights for the model are:  [-0.         -0.26020335  0.92584998  0.3776322 ]\n"
     ]
    }
   ],
   "source": [
    "def quick_merge(left,right,left_on='idx',right_on='idx',how='inner'):\n",
    "    return pd.merge(left,right,left_on=left_on,right_on=right_on,how=how)\n",
    "\n",
    "df_stack = quick_merge(quick_merge(quick_merge(df_rf,df_ada),df_xgb),df_gbdt)\n",
    "\n",
    "real = df_stack['y_real_ada']\n",
    "\n",
    "df_stack = df_stack.filter(regex='y_hat.*')\n",
    "df_stack['real'] = real\n",
    "\n",
    "from sklearn.linear_model import LassoCV\n",
    "\n",
    "ls = LassoCV()\n",
    "ls.fit(df_stack.drop(['real'],axis=1),df_stack['real'])\n",
    "print('the weights for the model are: ',ls.coef_)\n",
    "\n",
    "df_result = ls.coef_*df_stack.drop(['real'],axis=1)\n",
    "\n",
    "df_result['stack_pred'] = df_result.sum(axis=1)\n",
    "df_result['real'] = real"
   ]
  },
  {
   "cell_type": "code",
   "execution_count": 169,
   "metadata": {},
   "outputs": [
    {
     "name": "stdout",
     "output_type": "stream",
     "text": [
      "The stacking way for the RMSE score is: 71.7155988471614\n"
     ]
    }
   ],
   "source": [
    "rmse_score = sqrt((pow(array(df_result['stack_pred'])-array(df_result['real']),2).sum())/len(df_result)) #RMSE\n",
    "print(\"The stacking way for the RMSE score is:\",rmse_score)"
   ]
  },
  {
   "cell_type": "code",
   "execution_count": null,
   "metadata": {},
   "outputs": [],
   "source": []
  }
 ],
 "metadata": {
  "kernelspec": {
   "display_name": "Python 3",
   "language": "python",
   "name": "python3"
  },
  "language_info": {
   "codemirror_mode": {
    "name": "ipython",
    "version": 3
   },
   "file_extension": ".py",
   "mimetype": "text/x-python",
   "name": "python",
   "nbconvert_exporter": "python",
   "pygments_lexer": "ipython3",
   "version": "3.6.4"
  }
 },
 "nbformat": 4,
 "nbformat_minor": 2
}
